from pymatgen.ext.matproj import MPRester

# https://pymatgen.org/introduction.html
# You have to use the old Materials Project website: https://legacy.materialsproject.org/dashboard
with MPRester("KCN5RO8FHahQJZKZ") as m:

    # Structure for material id
    structure = m.get_structure_by_material_id("mp-984761")

    # Dos for material id
    # dos = m.get_dos_by_material_id("mp-984761")

    # Bandstructure for material id
    # bandstructure = m.get_bandstructure_by_material_id("mp-984761")
    
structure.to(filename="LiZnP.cif")