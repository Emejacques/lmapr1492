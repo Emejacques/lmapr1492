{
 "cells": [
  {
   "cell_type": "code",
   "execution_count": 6,
   "id": "2f02e203",
   "metadata": {},
   "outputs": [],
   "source": [
    "from pymatgen.ext.matproj import MPRester\n",
    "from pymatgen.core.lattice import Lattice as L\n",
    "from pymatgen import Structure\n",
    "from pymatgen.symmetry.analyzer import SpacegroupAnalyzer\n",
    "\n",
    "with MPRester(\"KCN5RO8FHahQJZKZ\") as m:\n",
    "\n",
    "    # Structure for material id\n",
    "    LiZnP = m.get_structure_by_material_id(\"mp-10182\")"
   ]
  },
  {
   "cell_type": "code",
   "execution_count": 7,
   "id": "27e33ef5",
   "metadata": {},
   "outputs": [
    {
     "name": "stdout",
     "output_type": "stream",
     "text": [
      "Les 3 vecteurs de bases des son réseau direct sont:\n",
      "0.000000 2.879775 2.879775\n",
      "2.879775 0.000000 2.879775\n",
      "2.879775 2.879775 0.000000\n"
     ]
    }
   ],
   "source": [
    "print(\"Les 3 vecteurs de bases des son réseau direct sont:\")\n",
    "print(LiZnP.lattice)"
   ]
  },
  {
   "cell_type": "code",
   "execution_count": 8,
   "id": "e4c394e7",
   "metadata": {},
   "outputs": [
    {
     "name": "stdout",
     "output_type": "stream",
     "text": [
      "Les 3 vecteurs de bases de son réseau réciproque sont:\n",
      "-1.090916 1.090916 1.090916\n",
      "1.090916 -1.090916 1.090916\n",
      "1.090916 1.090916 -1.090916\n"
     ]
    }
   ],
   "source": [
    "print(\"Les 3 vecteurs de bases de son réseau réciproque sont:\")\n",
    "print(LiZnP.lattice.reciprocal_lattice)"
   ]
  },
  {
   "cell_type": "code",
   "execution_count": 9,
   "id": "f53faf1a",
   "metadata": {},
   "outputs": [
    {
     "name": "stdout",
     "output_type": "stream",
     "text": [
      "son type maille est : cubic\n",
      "son systeme crystallin est : cubic\n",
      "son groupe ponctuel est : -43m\n"
     ]
    }
   ],
   "source": [
    "print(\"son type maille est :\",SpacegroupAnalyzer(LiZnP).get_lattice_type())\n",
    "print(\"son systeme crystallin est :\",SpacegroupAnalyzer(LiZnP).get_crystal_system())\n",
    "print(\"son groupe ponctuel est :\",SpacegroupAnalyzer(LiZnP).get_point_group_symbol())"
   ]
  },
  {
   "cell_type": "code",
   "execution_count": null,
   "id": "becf3784",
   "metadata": {},
   "outputs": [],
   "source": []
  }
 ],
 "metadata": {
  "kernelspec": {
   "display_name": "Python 3",
   "language": "python",
   "name": "python3"
  },
  "language_info": {
   "codemirror_mode": {
    "name": "ipython",
    "version": 3
   },
   "file_extension": ".py",
   "mimetype": "text/x-python",
   "name": "python",
   "nbconvert_exporter": "python",
   "pygments_lexer": "ipython3",
   "version": "3.6.8"
  }
 },
 "nbformat": 4,
 "nbformat_minor": 5
}
