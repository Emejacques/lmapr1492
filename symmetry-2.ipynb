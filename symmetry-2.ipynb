{
 "cells": [
  {
   "cell_type": "code",
   "execution_count": 7,
   "id": "a1961024",
   "metadata": {},
   "outputs": [],
   "source": [
    "from pymatgen.ext.matproj import MPRester\n",
    "from pymatgen.core.lattice import Lattice as L\n",
    "from pymatgen import Structure\n",
    "from pymatgen.symmetry.analyzer import SpacegroupAnalyzer\n",
    "from jupyter_jsmol.pymatgen import quick_view\n",
    "from pymatgen.core.operations import SymmOp\n",
    "\n",
    "with MPRester(\"KCN5RO8FHahQJZKZ\") as m:\n",
    "\n",
    "    # Structure for material id\n",
    "    LiZnP = m.get_structure_by_material_id(\"mp-10182\")\n",
    "    \n",
    "struct_LiZnP = SpacegroupAnalyzer(LiZnP)  \n",
    "struct_conv = struct_LiZnP.get_conventional_standard_structure()\n",
    "#P est en orange \n",
    "#Zn est en gris \n",
    "#Li est en mauve \n"
   ]
  },
  {
   "cell_type": "code",
   "execution_count": 8,
   "id": "4e983e85",
   "metadata": {},
   "outputs": [
    {
     "data": {
      "application/vnd.jupyter.widget-view+json": {
       "model_id": "975429f73b86439d9cf424c97dca5f97",
       "version_major": 2,
       "version_minor": 0
      },
      "text/plain": [
       "JsmolView(layout=Layout(align_self='stretch', height='400px'))"
      ]
     },
     "metadata": {},
     "output_type": "display_data"
    }
   ],
   "source": [
    "view = quick_view(struct_conv)\n",
    "display(view)"
   ]
  },
  {
   "cell_type": "code",
   "execution_count": 15,
   "id": "39094d13",
   "metadata": {},
   "outputs": [],
   "source": [
    "view.script('draw symop 3 {atomno=1}')"
   ]
  },
  {
   "cell_type": "markdown",
   "id": "1f637247",
   "metadata": {},
   "source": [
    "Le 1e atome dont la symétrie est analysée est l'atome de lithium, Li.<br>\n",
    "Il est en mauve sur la représentation faite grâce à Jsmol. <br>\n",
    "Il s'agit ici d'une rotation d'ordre 2 selon l'axe c, <br>\n",
    "l'équation correspondant à l'opération de symétrie est (x, y ,z)->(-x, -y, z)"
   ]
  },
  {
   "cell_type": "code",
   "execution_count": 16,
   "id": "a5216101",
   "metadata": {},
   "outputs": [],
   "source": [
    "view.script('draw symop 6 {atomno=2}')"
   ]
  },
  {
   "cell_type": "markdown",
   "id": "a9211e6a",
   "metadata": {},
   "source": [
    "Le 2e atome dont la symétrie est analysée est l'atome de zinc, Zn.<br>\n",
    "Il est en gris sur la représentation faite grâce à Jsmol.<br> \n",
    "Il s'agit ici d'un plan miroir, <br>\n",
    "l'équation correspondant à l'opération de symétrie est (x, y ,z)->(y, x, z)"
   ]
  },
  {
   "cell_type": "code",
   "execution_count": 17,
   "id": "2a7ed039",
   "metadata": {},
   "outputs": [],
   "source": [
    "view.script('draw symop 25 {atomno=3}')\n"
   ]
  },
  {
   "cell_type": "markdown",
   "id": "b68f9012",
   "metadata": {},
   "source": [
    "Le 3e atome dont la symétrie est analysée est l'atome de phosphore, P. <br>\n",
    "Il est en orange sur la représentation faite grâce à Jsmol. <br>\n",
    "Il s'agit ici d'une symétrie de translation possédant l'équation (x, y ,z)->(x+1/2, y+1/2, z)"
   ]
  },
  {
   "cell_type": "code",
   "execution_count": null,
   "id": "da96891d",
   "metadata": {},
   "outputs": [],
   "source": []
  }
 ],
 "metadata": {
  "kernelspec": {
   "display_name": "Python 3",
   "language": "python",
   "name": "python3"
  },
  "language_info": {
   "codemirror_mode": {
    "name": "ipython",
    "version": 3
   },
   "file_extension": ".py",
   "mimetype": "text/x-python",
   "name": "python",
   "nbconvert_exporter": "python",
   "pygments_lexer": "ipython3",
   "version": "3.6.8"
  }
 },
 "nbformat": 4,
 "nbformat_minor": 5
}
